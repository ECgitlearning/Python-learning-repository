{
 "cells": [
  {
   "cell_type": "code",
   "execution_count": 8,
   "id": "5fefbb75",
   "metadata": {},
   "outputs": [
    {
     "name": "stdout",
     "output_type": "stream",
     "text": [
      "12\n"
     ]
    }
   ],
   "source": [
    "x = 3\n",
    "y = 9\n",
    "z = x + y\n",
    "print (z)"
   ]
  },
  {
   "cell_type": "code",
   "execution_count": 9,
   "id": "92fe1219",
   "metadata": {},
   "outputs": [
    {
     "name": "stdout",
     "output_type": "stream",
     "text": [
      "3\n"
     ]
    }
   ],
   "source": [
    "i = 1\n",
    "j = 2\n",
    "print(i + j)"
   ]
  },
  {
   "cell_type": "code",
   "execution_count": null,
   "id": "852f6d32",
   "metadata": {},
   "outputs": [
    {
     "name": "stdout",
     "output_type": "stream",
     "text": [
      "5\n"
     ]
    }
   ],
   "source": [
    "num_1 = 5\n",
    "\n",
    "print(num_1)\n"
   ]
  },
  {
   "cell_type": "code",
   "execution_count": null,
   "id": "c172000b",
   "metadata": {},
   "outputs": [
    {
     "data": {
      "text/plain": [
       "<function print(*args, sep=' ', end='\\n', file=None, flush=False)>"
      ]
     },
     "execution_count": 20,
     "metadata": {},
     "output_type": "execute_result"
    }
   ],
   "source": [
    "num_1 = 5\n",
    "\n",
    "num_2 = 10\n",
    "\n",
    "num_1 = 10\n",
    "\n",
    "answer = num_1 + num_2\n",
    "\n",
    "answer\n",
    "\n",
    "var_1 = 'single quotes'\n",
    "\n",
    "var_2 = \"isn't\"\n",
    "\n",
    "var_3 = 'William said \"Hello\"'\n",
    "\n",
    "print\n",
    "\n",
    "# int, integer\n",
    "# str, string\n",
    "# float"
   ]
  },
  {
   "cell_type": "code",
   "execution_count": 25,
   "id": "ef35cc48",
   "metadata": {},
   "outputs": [
    {
     "ename": "NameError",
     "evalue": "name 'Float' is not defined",
     "output_type": "error",
     "traceback": [
      "\u001b[31m---------------------------------------------------------------------------\u001b[39m",
      "\u001b[31mNameError\u001b[39m                                 Traceback (most recent call last)",
      "\u001b[36mCell\u001b[39m\u001b[36m \u001b[39m\u001b[32mIn[25]\u001b[39m\u001b[32m, line 9\u001b[39m\n\u001b[32m      5\u001b[39m answer = num_2 /  + num_1\n\u001b[32m      7\u001b[39m \u001b[38;5;66;03m# answer = answer will give you the data type\u001b[39;00m\n\u001b[32m----> \u001b[39m\u001b[32m9\u001b[39m answer_str = \u001b[43mFloat\u001b[49m(answer)\n\u001b[32m     12\u001b[39m \u001b[38;5;28mprint\u001b[39m\n\u001b[32m     14\u001b[39m \u001b[38;5;66;03m# int, integer\u001b[39;00m\n\u001b[32m     15\u001b[39m \u001b[38;5;66;03m# str, string\u001b[39;00m\n\u001b[32m     16\u001b[39m \u001b[38;5;66;03m# float\u001b[39;00m\n\u001b[32m   (...)\u001b[39m\u001b[32m     19\u001b[39m \u001b[38;5;66;03m# + plus\u001b[39;00m\n\u001b[32m     20\u001b[39m \u001b[38;5;66;03m# - minus\u001b[39;00m\n",
      "\u001b[31mNameError\u001b[39m: name 'Float' is not defined"
     ]
    }
   ],
   "source": [
    "num_1 = 5.0\n",
    "\n",
    "num_2 = 10\n",
    "\n",
    "answer = num_2 /  + num_1\n",
    "\n",
    "# answer = answer will give you the data type\n",
    "\n",
    "answer_str = Float(answer)\n",
    "\n",
    "\n",
    "print\n",
    "\n",
    "# int, integer\n",
    "# str, string\n",
    "# float\n",
    "# * times\n",
    "# / divide\n",
    "# + plus\n",
    "# - minus\n",
    "\n",
    "type(answer_str)\n",
    "\n",
    "# in this cell, initialise two numeric variables and find their product\n",
    "# using the * operator for multiplication and assign this to a new variable.\n",
    "# Print the new variable\n",
    " \n",
    "# The radius of a circle is 2, assume that Pi is 3.14. Assign both of these\n",
    "# to suitably named variables and find the area of the circle.\n",
    "# We can find the area of a circle by finding the product of Pi with the radius squared.\n",
    "# You probably don't know how to square a number in Python yet, so use Google to work it out!"
   ]
  },
  {
   "cell_type": "code",
   "execution_count": 34,
   "id": "7a6e99a6",
   "metadata": {},
   "outputs": [
    {
     "name": "stdout",
     "output_type": "stream",
     "text": [
      "180\n"
     ]
    },
    {
     "data": {
      "text/plain": [
       "39.4384"
      ]
     },
     "execution_count": 34,
     "metadata": {},
     "output_type": "execute_result"
    }
   ],
   "source": [
    "# in this cell, initialise two numeric variables and find their product\n",
    "# using the * operator for multiplication and assign this to a new variable.\n",
    "# Print the new variable\n",
    " \n",
    "i = 12\n",
    "j = 15\n",
    "k = i * j\n",
    "\n",
    "print(k)\n",
    "\n",
    "# The radius of a circle is 2, assume that Pi is 3.14. Assign both of these\n",
    "# to suitably named variables and find the area of the circle.\n",
    "# We can find the area of a circle by finding the product of Pi with the radius squared.\n",
    "# You probably don't know how to square a number in Python yet, so use Google to work it out!\n",
    "\n",
    "r = 2\n",
    "pi = 3.14\n",
    "\n",
    "area = (pi * r) ** 2\n",
    "\n",
    "area\n",
    "\n",
    "#area should equal 39.4384 not 12.56 being shown"
   ]
  },
  {
   "cell_type": "code",
   "execution_count": 38,
   "id": "305eccf0",
   "metadata": {},
   "outputs": [
    {
     "data": {
      "text/plain": [
       "'Hi my name is Will, and I am a Data mamager'"
      ]
     },
     "execution_count": 38,
     "metadata": {},
     "output_type": "execute_result"
    }
   ],
   "source": [
    "name = \"Will\"\n",
    "job = \"Data mamager\"\n",
    "\n",
    "name_job = f\"Hi my name is {name}, and I am a {job}\"\n",
    "\n",
    "name_job"
   ]
  },
  {
   "cell_type": "code",
   "execution_count": null,
   "id": "5b508083",
   "metadata": {},
   "outputs": [
    {
     "data": {
      "text/plain": [
       "'i'"
      ]
     },
     "execution_count": 47,
     "metadata": {},
     "output_type": "execute_result"
    }
   ],
   "source": [
    "phrase = name_job\n",
    "\n",
    "#phrase\n",
    "\n",
    "phrase[11]\n",
    "\n",
    "# Strings are iterable\n",
    "# iterate over\n",
    "# a thing that has parts that can be accessed one at a time.\n",
    "# counting in python starts at 0\n",
    "\n",
    "#[start : stop]\n",
    "# start is inclusive\n",
    "# stop is exclusive\n",
    "\n",
    "#to start from the right use a minus \n"
   ]
  },
  {
   "cell_type": "code",
   "execution_count": 48,
   "id": "be3cbb7b",
   "metadata": {},
   "outputs": [
    {
     "data": {
      "text/plain": [
       "9.0"
      ]
     },
     "execution_count": 48,
     "metadata": {},
     "output_type": "execute_result"
    }
   ],
   "source": [
    "num_1 = num_1 + 1\n",
    "\n",
    "num_1"
   ]
  },
  {
   "cell_type": "code",
   "execution_count": 50,
   "id": "034dd6d4",
   "metadata": {},
   "outputs": [
    {
     "data": {
      "text/plain": [
       "'ssda903_list_1'"
      ]
     },
     "execution_count": 50,
     "metadata": {},
     "output_type": "execute_result"
    }
   ],
   "source": [
    "filename = \"ssda903_list_1.csv\"\n",
    "\n",
    "short_fn = filename[:-4]\n",
    "\n",
    "#short_fn = filename[8:-4]\n",
    "\n",
    "short_fn"
   ]
  },
  {
   "cell_type": "code",
   "execution_count": 52,
   "id": "405f8804",
   "metadata": {},
   "outputs": [
    {
     "data": {
      "text/plain": [
       "'ssda903_list_1'"
      ]
     },
     "execution_count": 52,
     "metadata": {},
     "output_type": "execute_result"
    }
   ],
   "source": [
    "''' \n",
    "/ - divide\n",
    "* - times\n",
    "type() - checks the type of data\n",
    "print() - prints the data\n",
    "'''\n",
    "filename = \"ssda903_list_1.csv\"\n",
    "\n",
    "short_fn = filename[:-4]\n",
    "\n",
    "#short_fn = filename[8:-4]\n",
    "\n",
    "short_fn"
   ]
  },
  {
   "cell_type": "code",
   "execution_count": null,
   "id": "51a69afa",
   "metadata": {},
   "outputs": [
    {
     "data": {
      "text/plain": [
       "'ssda903_list_1'"
      ]
     },
     "execution_count": 53,
     "metadata": {},
     "output_type": "execute_result"
    }
   ],
   "source": [
    "'''  \n",
    "The three dot’s seen at the start and the end can be used to save comments and ignore data as code.\n",
    "\n",
    "/ - divide\n",
    "* - times\n",
    "type() - checks the type of data\n",
    "print() - prints the data\n",
    "'''\n",
    "filename = \"ssda903_list_1.csv\"\n",
    "\n",
    "short_fn = filename[:-4]\n",
    "\n",
    "#short_fn = filename[8:-4]\n",
    "\n",
    "short_fn\n",
    "\n"
   ]
  },
  {
   "cell_type": "code",
   "execution_count": 3,
   "id": "4aa2c8ab",
   "metadata": {},
   "outputs": [
    {
     "data": {
      "text/html": [
       "<div>\n",
       "<style scoped>\n",
       "    .dataframe tbody tr th:only-of-type {\n",
       "        vertical-align: middle;\n",
       "    }\n",
       "\n",
       "    .dataframe tbody tr th {\n",
       "        vertical-align: top;\n",
       "    }\n",
       "\n",
       "    .dataframe thead th {\n",
       "        text-align: right;\n",
       "    }\n",
       "</style>\n",
       "<table border=\"1\" class=\"dataframe\">\n",
       "  <thead>\n",
       "    <tr style=\"text-align: right;\">\n",
       "      <th></th>\n",
       "      <th>ChildId</th>\n",
       "      <th>Age first contact</th>\n",
       "      <th>Gender</th>\n",
       "      <th>Birthday</th>\n",
       "      <th>Age</th>\n",
       "      <th>CP Plan?</th>\n",
       "    </tr>\n",
       "  </thead>\n",
       "  <tbody>\n",
       "    <tr>\n",
       "      <th>0</th>\n",
       "      <td>id1</td>\n",
       "      <td>6</td>\n",
       "      <td>M</td>\n",
       "      <td>2002-01-01</td>\n",
       "      <td>5</td>\n",
       "      <td>Y</td>\n",
       "    </tr>\n",
       "    <tr>\n",
       "      <th>1</th>\n",
       "      <td>id2</td>\n",
       "      <td>12</td>\n",
       "      <td>m</td>\n",
       "      <td>2003-02-02</td>\n",
       "      <td>12</td>\n",
       "      <td>n</td>\n",
       "    </tr>\n",
       "    <tr>\n",
       "      <th>2</th>\n",
       "      <td>id3</td>\n",
       "      <td>11</td>\n",
       "      <td>F</td>\n",
       "      <td>NaT</td>\n",
       "      <td>11</td>\n",
       "      <td>N</td>\n",
       "    </tr>\n",
       "    <tr>\n",
       "      <th>3</th>\n",
       "      <td>id4</td>\n",
       "      <td>1</td>\n",
       "      <td></td>\n",
       "      <td>2023-03-03</td>\n",
       "      <td>6</td>\n",
       "      <td>No</td>\n",
       "    </tr>\n",
       "    <tr>\n",
       "      <th>4</th>\n",
       "      <td>id5</td>\n",
       "      <td>19</td>\n",
       "      <td>F</td>\n",
       "      <td>2012-01-06</td>\n",
       "      <td>2</td>\n",
       "      <td>yES</td>\n",
       "    </tr>\n",
       "  </tbody>\n",
       "</table>\n",
       "</div>"
      ],
      "text/plain": [
       "  ChildId  Age first contact Gender   Birthday  Age CP Plan?\n",
       "0     id1                  6      M 2002-01-01    5        Y\n",
       "1     id2                 12      m 2003-02-02   12        n\n",
       "2     id3                 11      F        NaT   11        N\n",
       "3     id4                  1        2023-03-03    6       No\n",
       "4     id5                 19      F 2012-01-06    2      yES"
      ]
     },
     "execution_count": 3,
     "metadata": {},
     "output_type": "execute_result"
    }
   ],
   "source": [
    "import pandas as pd\n",
    "\n",
    "df = pd.DataFrame({'ChildId':['id1', 'id2', 'id3', 'id4', 'id5'],\n",
    "                   'Age first contact':[6,12,11,1,19],\n",
    "                   'Gender':['M','m', 'F', '', 'F' ],\n",
    "                   'Birthday':['01/01/2002', '02/02/2003', pd.NA, '03/03/2023', '06/01/2012'],\n",
    "                   'Age':[5,12,11,6,2],\n",
    "                   'CP Plan?':['Y', 'n', 'N', 'No', 'yES'],})\n",
    "df['Birthday'] = pd.to_datetime(df['Birthday'], dayfirst=True)\n",
    "df"
   ]
  }
 ],
 "metadata": {
  "kernelspec": {
   "display_name": "Python 3",
   "language": "python",
   "name": "python3"
  },
  "language_info": {
   "codemirror_mode": {
    "name": "ipython",
    "version": 3
   },
   "file_extension": ".py",
   "mimetype": "text/x-python",
   "name": "python",
   "nbconvert_exporter": "python",
   "pygments_lexer": "ipython3",
   "version": "3.12.1"
  }
 },
 "nbformat": 4,
 "nbformat_minor": 5
}
